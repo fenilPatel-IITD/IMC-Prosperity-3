{
 "cells": [
  {
   "cell_type": "code",
   "execution_count": 26,
   "id": "7ac2bd27-47db-49a8-adcd-70ad5d363355",
   "metadata": {},
   "outputs": [],
   "source": [
    "from enum import IntEnum\n",
    "from itertools import product\n",
    "from itertools import permutations"
   ]
  },
  {
   "cell_type": "markdown",
   "id": "e9cc4375-918a-4664-b89a-b38e3797ea27",
   "metadata": {},
   "source": [
    "Import Required Modules"
   ]
  },
  {
   "cell_type": "code",
   "execution_count": 27,
   "id": "73070bf3-b6af-4338-b316-b5c8b7b3de09",
   "metadata": {},
   "outputs": [],
   "source": [
    "data = {\n",
    "    'Snowballs': [1, 1.45, 0.52, 0.72],\n",
    "    'Pizza\\'s': [0.7, 1, 0.31, 0.48],\n",
    "    'Silicon Nuggets': [1.95, 3.1, 1, 1.49],\n",
    "    'SeaShells': [1.34, 1.98, 0.64, 1]\n",
    "}\n",
    "\n",
    "currencies = ['Snowballs', 'Pizza\\'s', 'Silicon Nuggets', 'SeaShells']\n",
    "df = pd.DataFrame(data, index=currencies)"
   ]
  },
  {
   "cell_type": "code",
   "execution_count": 28,
   "id": "3c6e5ce0-f376-4874-a24e-9dce34135ff7",
   "metadata": {},
   "outputs": [
    {
     "data": {
      "text/html": [
       "<div>\n",
       "<style scoped>\n",
       "    .dataframe tbody tr th:only-of-type {\n",
       "        vertical-align: middle;\n",
       "    }\n",
       "\n",
       "    .dataframe tbody tr th {\n",
       "        vertical-align: top;\n",
       "    }\n",
       "\n",
       "    .dataframe thead th {\n",
       "        text-align: right;\n",
       "    }\n",
       "</style>\n",
       "<table border=\"1\" class=\"dataframe\">\n",
       "  <thead>\n",
       "    <tr style=\"text-align: right;\">\n",
       "      <th></th>\n",
       "      <th>Snowballs</th>\n",
       "      <th>Pizza's</th>\n",
       "      <th>Silicon Nuggets</th>\n",
       "      <th>SeaShells</th>\n",
       "    </tr>\n",
       "  </thead>\n",
       "  <tbody>\n",
       "    <tr>\n",
       "      <th>Snowballs</th>\n",
       "      <td>1.00</td>\n",
       "      <td>0.70</td>\n",
       "      <td>1.95</td>\n",
       "      <td>1.34</td>\n",
       "    </tr>\n",
       "    <tr>\n",
       "      <th>Pizza's</th>\n",
       "      <td>1.45</td>\n",
       "      <td>1.00</td>\n",
       "      <td>3.10</td>\n",
       "      <td>1.98</td>\n",
       "    </tr>\n",
       "    <tr>\n",
       "      <th>Silicon Nuggets</th>\n",
       "      <td>0.52</td>\n",
       "      <td>0.31</td>\n",
       "      <td>1.00</td>\n",
       "      <td>0.64</td>\n",
       "    </tr>\n",
       "    <tr>\n",
       "      <th>SeaShells</th>\n",
       "      <td>0.72</td>\n",
       "      <td>0.48</td>\n",
       "      <td>1.49</td>\n",
       "      <td>1.00</td>\n",
       "    </tr>\n",
       "  </tbody>\n",
       "</table>\n",
       "</div>"
      ],
      "text/plain": [
       "                 Snowballs  Pizza's  Silicon Nuggets  SeaShells\n",
       "Snowballs             1.00     0.70             1.95       1.34\n",
       "Pizza's               1.45     1.00             3.10       1.98\n",
       "Silicon Nuggets       0.52     0.31             1.00       0.64\n",
       "SeaShells             0.72     0.48             1.49       1.00"
      ]
     },
     "execution_count": 28,
     "metadata": {},
     "output_type": "execute_result"
    }
   ],
   "source": [
    "df"
   ]
  },
  {
   "cell_type": "markdown",
   "id": "696cf7d9-fa49-47de-bc64-2999222b657a",
   "metadata": {},
   "source": [
    "Best Rates:"
   ]
  },
  {
   "cell_type": "code",
   "execution_count": 29,
   "id": "96edeedf-8a99-4b5b-a2cc-635ae601262b",
   "metadata": {},
   "outputs": [],
   "source": [
    "def find_best_trade_path(df, start_currency='SeaShells', num_trades=4):\n",
    "    currencies = list(df.index)\n",
    "    start_idx = currencies.index(start_currency)\n",
    "    n = len(currencies)\n",
    "\n",
    "    best_rate = 0\n",
    "    best_path = []\n",
    "\n",
    "    def dfs(current_path, current_rate):\n",
    "        nonlocal best_rate, best_path\n",
    "\n",
    "        if len(current_path) == num_trades:\n",
    "            # Add return to start_currency\n",
    "            full_path = current_path + [start_idx]\n",
    "            rate = current_rate * df.iloc[current_path[-1], start_idx]\n",
    "            if rate > best_rate:\n",
    "                best_rate = rate\n",
    "                best_path = full_path\n",
    "            return\n",
    "\n",
    "        for next_idx in range(n):\n",
    "            if len(current_path) == 0 and next_idx != start_idx:\n",
    "                continue  # must start with start_currency\n",
    "            if len(current_path) > 0:\n",
    "                rate = df.iloc[current_path[-1], next_idx]\n",
    "                dfs(current_path + [next_idx], current_rate * rate)\n",
    "\n",
    "    dfs([start_idx], 1)\n",
    "\n",
    "    best_path_names = [currencies[i] for i in best_path]\n",
    "    return best_path_names, best_rate"
   ]
  },
  {
   "cell_type": "code",
   "execution_count": 30,
   "id": "816865fc-b5e6-4682-9602-ec58fb323e08",
   "metadata": {},
   "outputs": [
    {
     "name": "stdout",
     "output_type": "stream",
     "text": [
      "Best path: SeaShells -> Snowballs -> Pizza's -> Silicon Nuggets -> Snowballs -> SeaShells\n",
      "Max conversion rate: 1.0886803200000001\n"
     ]
    }
   ],
   "source": [
    "path, rate = find_best_trade_path(df, num_trades=5)\n",
    "print(\"Best path:\", \" -> \".join(path))\n",
    "print(\"Max conversion rate:\", rate)"
   ]
  },
  {
   "cell_type": "code",
   "execution_count": null,
   "id": "bb04e994-c197-4226-bc24-2eba8f33fad0",
   "metadata": {},
   "outputs": [],
   "source": []
  }
 ],
 "metadata": {
  "kernelspec": {
   "display_name": "Python 3 (ipykernel)",
   "language": "python",
   "name": "python3"
  },
  "language_info": {
   "codemirror_mode": {
    "name": "ipython",
    "version": 3
   },
   "file_extension": ".py",
   "mimetype": "text/x-python",
   "name": "python",
   "nbconvert_exporter": "python",
   "pygments_lexer": "ipython3",
   "version": "3.13.2"
  }
 },
 "nbformat": 4,
 "nbformat_minor": 5
}
